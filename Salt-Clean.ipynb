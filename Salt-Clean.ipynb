{
 "cells": [
  {
   "cell_type": "markdown",
   "metadata": {},
   "source": [
    "# Salt Body Interpretation on Seismic Using Sagemaker and MXNET"
   ]
  },
  {
   "cell_type": "markdown",
   "metadata": {},
   "source": [
    "This notebook contains a tutorial on how to build a deep learning (semantic segmentation) model for automatic salt interpretation. \n",
    "* The fully convolutional architecture known as UNet for semantic segmentation\n",
    "* How to train UNet in Amazon SageMaker, and deploy to an inference endpoint\n",
    "\n",
    "Import the following modules:"
   ]
  },
  {
   "cell_type": "code",
   "execution_count": 11,
   "metadata": {
    "scrolled": false
   },
   "outputs": [],
   "source": [
    "import mxnet as mx\n",
    "import segmentation_methods as sgm\n",
    "from mxnet import ndarray as F\n",
    "import numpy as np\n",
    "import urllib\n",
    "from PIL import Image\n",
    "np.random.seed(1984)\n",
    "import glob\n",
    "import os\n",
    "import urllib\n",
    "import zipfile\n",
    "from scipy.misc import imresize\n",
    "from sklearn.cross_validation import train_test_split\n",
    "import scipy.io as sio\n",
    "from skimage import measure\n",
    "import time\n",
    "import matplotlib.pyplot as plt\n",
    "%matplotlib inline"
   ]
  },
  {
   "cell_type": "markdown",
   "metadata": {},
   "source": [
    "# Data ingestion"
   ]
  },
  {
   "cell_type": "markdown",
   "metadata": {},
   "source": [
    "The dataset use din this study is provided by TGS. Here is a link to data: https://www.kaggle.com/c/tgs-salt-identification-challenge\n",
    "We load the names of the files containing the labels. For each image that has a label, we load that name."
   ]
  },
  {
   "cell_type": "code",
   "execution_count": 14,
   "metadata": {},
   "outputs": [],
   "source": [
    "image_dir = 'data/train/images/'\n",
    "image_files = sgm.get_file_path_list(image_dir)\n",
    "label_dir = 'data/train/masks/'\n",
    "label_files = sgm.get_file_path_list(label_dir)"
   ]
  },
  {
   "cell_type": "markdown",
   "metadata": {},
   "source": [
    "Here we load the masks, and convert them into a binary format\"\n",
    "* If the images are not the same resolution, so they are resized to a constant 820x550. Any interpolated label values greater than zero are set to one.\n",
    "* MXNet requires the input to have dimension <tt>(batch, channel, height, width)</tt>, so these alterations are made."
   ]
  },
  {
   "cell_type": "code",
   "execution_count": 16,
   "metadata": {},
   "outputs": [],
   "source": [
    "image1 = np.array(Image.open(image_files[100]).resize((550,820)))\n",
    "mask1 = np.array(Image.open(label_files[100]).resize((550,820)))"
   ]
  },
  {
   "cell_type": "code",
   "execution_count": 17,
   "metadata": {
    "scrolled": true
   },
   "outputs": [
    {
     "data": {
      "text/plain": [
       "Text(0.5,1,'Salt Mask')"
      ]
     },
     "execution_count": 17,
     "metadata": {},
     "output_type": "execute_result"
    },
    {
     "data": {
      "image/png": "[encoded data removed]",
      "text/plain": [
       "<Figure size 864x864 with 2 Axes>"
      ]
     },
     "metadata": {},
     "output_type": "display_data"
    }
   ],
   "source": [
    "plt.figure(figsize=(12,12))\n",
    "plt.subplot(131)\n",
    "plt.title('Image')\n",
    "plt.imshow(image1)\n",
    "\n",
    "plt.subplot(132)\n",
    "plt.imshow(mask1)\n",
    "plt.title('Salt Mask')"
   ]
  },
  {
   "cell_type": "markdown",
   "metadata": {},
   "source": [
    "## Stack images"
   ]
  },
  {
   "cell_type": "code",
   "execution_count": 18,
   "metadata": {
    "scrolled": false
   },
   "outputs": [
    {
     "name": "stderr",
     "output_type": "stream",
     "text": [
      "/home/ec2-user/anaconda3/envs/mxnet_p27/lib/python2.7/site-packages/ipykernel/__main__.py:5: DeprecationWarning: `imresize` is deprecated!\n",
      "`imresize` is deprecated in SciPy 1.0.0, and will be removed in 1.2.0.\n",
      "Use ``skimage.transform.resize`` instead.\n"
     ]
    }
   ],
   "source": [
    "X = []\n",
    "Y = []\n",
    "for i in range(len(image_files)):\n",
    "    mask = (Image.open(label_files[i]))\n",
    "    mask = (imresize(mask, (820, 550)) > 0).astype(np.uint8) # interpolate to 820 x 550\n",
    "    image = np.array(Image.open(image_files[i]).resize((550,820)))\n",
    "    X.append(image)\n",
    "    Y.append(mask)\n",
    "X = np.transpose(np.stack(X), axes=(0, 3, 1, 2))\n",
    "Y = np.expand_dims(np.stack(Y), 1)"
   ]
  },
  {
   "cell_type": "markdown",
   "metadata": {},
   "source": [
    "We have 4000 observations."
   ]
  },
  {
   "cell_type": "code",
   "execution_count": 19,
   "metadata": {},
   "outputs": [
    {
     "data": {
      "text/plain": [
       "(4000, 3, 820, 550)"
      ]
     },
     "execution_count": 19,
     "metadata": {},
     "output_type": "execute_result"
    }
   ],
   "source": [
    "X.shape"
   ]
  },
  {
   "cell_type": "markdown",
   "metadata": {},
   "source": [
    "# Data splitting and augmentation (random cropping)"
   ]
  },
  {
   "cell_type": "markdown",
   "metadata": {},
   "source": [
    "We're going to generate a new data-set through random cropping of our existing images. Before we do that, we need to split the data into training and validation data (if we did crops first, and then split, we run the risk of data leakage)."
   ]
  },
  {
   "cell_type": "code",
   "execution_count": 20,
   "metadata": {},
   "outputs": [],
   "source": [
    "train_X, validation_X, train_Y, validation_Y = train_test_split(X, Y, test_size=0.2, random_state=1984)"
   ]
  },
  {
   "cell_type": "code",
   "execution_count": 23,
   "metadata": {},
   "outputs": [],
   "source": [
    "train_X_boxes, train_Y_boxes = sgm.extract_boxes(train_X, train_Y)\n",
    "validation_X_boxes, validation_Y_boxes = sgm.extract_boxes(validation_X, validation_Y)"
   ]
  },
  {
   "cell_type": "markdown",
   "metadata": {},
   "source": [
    "Next, we generate the random crops."
   ]
  },
  {
   "cell_type": "code",
   "execution_count": 26,
   "metadata": {},
   "outputs": [],
   "source": [
    "train_X_crops, train_Y_crops = sgm.generate_random_crops(train_X_boxes, train_Y_boxes, num_patches=3)\n",
    "validation_X_crops, validation_Y_crops = sgm.generate_random_crops(validation_X_boxes, validation_Y_boxes, num_patches=3)"
   ]
  },
  {
   "cell_type": "code",
   "execution_count": 27,
   "metadata": {},
   "outputs": [
    {
     "data": {
      "text/plain": [
       "(6327, 3, 256, 256)"
      ]
     },
     "execution_count": 27,
     "metadata": {},
     "output_type": "execute_result"
    }
   ],
   "source": [
    "train_X_crops.shape"
   ]
  },
  {
   "cell_type": "markdown",
   "metadata": {},
   "source": [
    "Next, we'll save the generated data locally so we can avoid generating again."
   ]
  },
  {
   "cell_type": "code",
   "execution_count": 29,
   "metadata": {},
   "outputs": [],
   "source": [
    "if not os.path.exists('/dev/shm/salt/segmentation_data'): \n",
    "    os.mkdir('/dev/shm/salt/segmentation_data')\n",
    "np.save('/dev/shm/salt/segmentation_data/train_X_crops.npy', train_X_crops)\n",
    "np.save('/dev/shm/salt/segmentation_data/train_Y_crops.npy', train_Y_crops)\n",
    "np.save('/dev/shm/salt/segmentation_data/validation_X_crops.npy', validation_X_crops)\n",
    "np.save('/dev/shm/salt/segmentation_data/validation_Y_crops.npy', validation_Y_crops)"
   ]
  },
  {
   "cell_type": "code",
   "execution_count": 30,
   "metadata": {},
   "outputs": [],
   "source": [
    "train_X_crops = np.load('/dev/shm/salt/segmentation_data/train_X_crops.npy')\n",
    "train_Y_crops = np.load('/dev/shm/salt/segmentation_data/train_Y_crops.npy')\n",
    "validation_X_crops = np.load('/dev/shm/salt/segmentation_data/validation_X_crops.npy')\n",
    "validation_Y_crops = np.load('/dev/shm/salt/segmentation_data/validation_Y_crops.npy')"
   ]
  },
  {
   "cell_type": "markdown",
   "metadata": {},
   "source": [
    "# SageMaker"
   ]
  },
  {
   "cell_type": "markdown",
   "metadata": {},
   "source": [
    "We're going to proceed by defining the UNet Network for binary segmentation using Sagemaker."
   ]
  },
  {
   "cell_type": "markdown",
   "metadata": {},
   "source": [
    "Now we are ready to define a training job in SageMaker to do training at scale."
   ]
  },
  {
   "cell_type": "code",
   "execution_count": 31,
   "metadata": {},
   "outputs": [],
   "source": [
    "import boto3\n",
    "import sagemaker\n",
    "from sagemaker.mxnet import MXNet\n",
    "from sagemaker import get_execution_role"
   ]
  },
  {
   "cell_type": "code",
   "execution_count": 32,
   "metadata": {},
   "outputs": [],
   "source": [
    "role = get_execution_role()\n",
    "sagemaker_session = sagemaker.Session()"
   ]
  },
  {
   "cell_type": "markdown",
   "metadata": {},
   "source": [
    "We need to upload the data to S3 so the instances launched for the training job can pull the data down."
   ]
  },
  {
   "cell_type": "code",
   "execution_count": 33,
   "metadata": {},
   "outputs": [
    {
     "name": "stderr",
     "output_type": "stream",
     "text": [
      "INFO:sagemaker:Created S3 bucket: sagemaker-us-east-1-597844091762\n"
     ]
    }
   ],
   "source": [
    "inputs = sagemaker_session.upload_data(path='/dev/shm/salt/segmentation_data', key_prefix='sagemaker_data')"
   ]
  },
  {
   "cell_type": "markdown",
   "metadata": {},
   "source": [
    "Finally, we create the MXNet SageMaker model estimator using the **Bring your own script** paradigm. We've defined a script, <tt>segmentation.py</tt>, that runs the training loop for UNet in MXNet Symbolic. To do this, we follow the conventions defined for the SageMaker Python SDK [here](https://github.com/aws/sagemaker-python-sdk)."
   ]
  },
  {
   "cell_type": "markdown",
   "metadata": {},
   "source": [
    "## Train"
   ]
  },
  {
   "cell_type": "code",
   "execution_count": 56,
   "metadata": {
    "scrolled": true
   },
   "outputs": [
    {
     "name": "stderr",
     "output_type": "stream",
     "text": [
      "WARNING:sagemaker:In an upcoming version of the SageMaker Python SDK, framework_version will be required to create an estimator. Please add framework_version=1.2 to your constructor to avoid an error in the future.\n",
      "INFO:sagemaker:Creating training-job with name: sagemaker-mxnet-2018-11-26-21-30-05-962\n"
     ]
    },
    {
     "name": "stdout",
     "output_type": "stream",
     "text": [
      "2018-11-26 21:30:06 Starting - Starting the training job...\n",
      "2018-11-26 21:30:10 Starting - Launching requested ML instances.........\n",
      "2018-11-26 21:31:49 Starting - Preparing the instances for training......\n",
      "2018-11-26 21:32:57 Downloading - Downloading input data...\n",
      "2018-11-26 21:33:34 Training - Downloading the training image..\n",
      "\u001b[32m2018-11-26 21:33:44,287 INFO - root - running container entrypoint\u001b[0m\n",
      "\u001b[32m2018-11-26 21:33:44,287 INFO - root - starting train task\u001b[0m\n",
      "\u001b[32m2018-11-26 21:33:44,412 INFO - container_support.training - Training starting\u001b[0m\n",
      "\u001b[32m2018-11-26 21:33:46,436 WARNING - mxnet_container.train - #033[1;33mThis required structure for training scripts will be deprecated with the next major release of MXNet images. The train() function will no longer be required; instead the training script must be able to be run as a standalone script. For more information, see https://github.com/aws/sagemaker-python-sdk/tree/master/src/sagemaker/mxnet#updating-your-mxnet-training-script.#033[1;0m\u001b[0m\n",
      "\u001b[32m2018-11-26 21:33:46,509 INFO - mxnet_container.train - MXNetTrainingEnvironment: {'enable_cloudwatch_metrics': False, 'available_gpus': 8, 'channels': {u'training': {u'TrainingInputMode': u'File', u'RecordWrapperType': u'None', u'S3DistributionType': u'FullyReplicated'}}, '_ps_verbose': 0, 'resource_config': {u'hosts': [u'algo-1', u'algo-2'], u'network_interface_name': u'ethwe', u'current_host': u'algo-2'}, 'user_script_name': u'segmentation.py', 'input_config_dir': '/opt/ml/input/config', 'channel_dirs': {u'training': u'/opt/ml/input/data/training'}, 'code_dir': '/opt/ml/code', 'output_data_dir': u'/opt/ml/output/data/algo-2', 'output_dir': '/opt/ml/output', 'model_dir': '/opt/ml/model', 'hyperparameters': {u'sagemaker_program': u'segmentation.py', u'num_gpus': 1, u'data_shape': [3, 256, 256], u'learning_rate': 0.001, u'batch_size': 64, u'epochs': 10, u'sagemaker_submit_directory': u's3://sagemaker-us-east-1-597844091762/sagemaker-mxnet-2018-11-26-21-30-05-962/source/sourcedir.tar.gz', u'sagemaker_region': u'us-east-1', u'sagemaker_enable_cloudwatch_metrics': False, u'sagemaker_job_name': u'sagemaker-mxnet-2018-11-26-21-30-05-962', u'sagemaker_container_log_level': 20}, 'hosts': [u'algo-1', u'algo-2'], 'job_name': 'sagemaker-mxnet-2018-11-26-21-30-05-962', '_ps_port': 8000, 'user_script_archive': u's3://sagemaker-us-east-1-597844091762/sagemaker-mxnet-2018-11-26-21-30-05-962/source/sourcedir.tar.gz', '_scheduler_host': u'algo-1', 'sagemaker_region': u'us-east-1', '_scheduler_ip': '10.40.0.3', 'input_dir': '/opt/ml/input', 'user_requirements_file': None, 'current_host': u'algo-2', 'container_log_level': 20, 'available_cpus': 64, 'base_dir': '/opt/ml'}\u001b[0m\n",
      "\u001b[32mDownloading s3://sagemaker-us-east-1-597844091762/sagemaker-mxnet-2018-11-26-21-30-05-962/source/sourcedir.tar.gz to /tmp/script.tar.gz\u001b[0m\n",
      "\u001b[32m2018-11-26 21:33:46,764 INFO - mxnet_container.train - Starting distributed training task\u001b[0m\n",
      "\u001b[32m[gpu(0)]\u001b[0m\n",
      "\u001b[32mloaded data\u001b[0m\n",
      "\u001b[31m2018-11-26 21:33:43,729 INFO - root - running container entrypoint\u001b[0m\n",
      "\u001b[31m2018-11-26 21:33:43,730 INFO - root - starting train task\u001b[0m\n",
      "\u001b[31m2018-11-26 21:33:43,854 INFO - container_support.training - Training starting\u001b[0m\n",
      "\u001b[31m2018-11-26 21:33:45,881 WARNING - mxnet_container.train - #033[1;33mThis required structure for training scripts will be deprecated with the next major release of MXNet images. The train() function will no longer be required; instead the training script must be able to be run as a standalone script. For more information, see https://github.com/aws/sagemaker-python-sdk/tree/master/src/sagemaker/mxnet#updating-your-mxnet-training-script.#033[1;0m\u001b[0m\n",
      "\u001b[31m2018-11-26 21:33:45,954 INFO - mxnet_container.train - MXNetTrainingEnvironment: {'enable_cloudwatch_metrics': False, 'available_gpus': 8, 'channels': {u'training': {u'TrainingInputMode': u'File', u'RecordWrapperType': u'None', u'S3DistributionType': u'FullyReplicated'}}, '_ps_verbose': 0, 'resource_config': {u'hosts': [u'algo-1', u'algo-2'], u'network_interface_name': u'ethwe', u'current_host': u'algo-1'}, 'user_script_name': u'segmentation.py', 'input_config_dir': '/opt/ml/input/config', 'channel_dirs': {u'training': u'/opt/ml/input/data/training'}, 'code_dir': '/opt/ml/code', 'output_data_dir': u'/opt/ml/output/data/algo-1', 'output_dir': '/opt/ml/output', 'model_dir': '/opt/ml/model', 'hyperparameters': {u'sagemaker_program': u'segmentation.py', u'num_gpus': 1, u'data_shape': [3, 256, 256], u'learning_rate': 0.001, u'batch_size': 64, u'epochs': 10, u'sagemaker_submit_directory': u's3://sagemaker-us-east-1-597844091762/sagemaker-mxnet-2018-11-26-21-30-05-962/source/sourcedir.tar.gz', u'sagemaker_region': u'us-east-1', u'sagemaker_enable_cloudwatch_metrics': False, u'sagemaker_job_name': u'sagemaker-mxnet-2018-11-26-21-30-05-962', u'sagemaker_container_log_level': 20}, 'hosts': [u'algo-1', u'algo-2'], 'job_name': 'sagemaker-mxnet-2018-11-26-21-30-05-962', '_ps_port': 8000, 'user_script_archive': u's3://sagemaker-us-east-1-597844091762/sagemaker-mxnet-2018-11-26-21-30-05-962/source/sourcedir.tar.gz', '_scheduler_host': u'algo-1', 'sagemaker_region': u'us-east-1', '_scheduler_ip': '10.40.0.3', 'input_dir': '/opt/ml/input', 'user_requirements_file': None, 'current_host': u'algo-1', 'container_log_level': 20, 'available_cpus': 64, 'base_dir': '/opt/ml'}\u001b[0m\n",
      "\u001b[31mDownloading s3://sagemaker-us-east-1-597844091762/sagemaker-mxnet-2018-11-26-21-30-05-962/source/sourcedir.tar.gz to /tmp/script.tar.gz\u001b[0m\n",
      "\u001b[31m2018-11-26 21:33:46,235 INFO - mxnet_container.train - Starting distributed training task\u001b[0m\n",
      "\u001b[31m[gpu(0)]\u001b[0m\n",
      "\u001b[31mloaded data\u001b[0m\n",
      "\n",
      "2018-11-26 21:33:48 Training - Training image download completed. Training in progress.\u001b[32mcreated iters\u001b[0m\n",
      "\u001b[31mcreated iters\u001b[0m\n",
      "\u001b[31mstart training\u001b[0m\n",
      "\u001b[31m[21:34:24] src/operator/nn/./cudnn/./cudnn_algoreg-inl.h:107: Running performance tests to find the best convolution algorithm, this can take a while... (setting env variable MXNET_CUDNN_AUTOTUNE_DEFAULT to 0 to disable)\u001b[0m\n",
      "\u001b[32mstart training\u001b[0m\n",
      "\u001b[32m[21:34:25] src/operator/nn/./cudnn/./cudnn_algoreg-inl.h:107: Running performance tests to find the best convolution algorithm, this can take a while... (setting env variable MXNET_CUDNN_AUTOTUNE_DEFAULT to 0 to disable)\u001b[0m\n",
      "\u001b[31m[21:34:27] src/operator/nn/./cudnn/./cudnn_algoreg-inl.h:107: Running performance tests to find the best convolution algorithm, this can take a while... (setting env variable MXNET_CUDNN_AUTOTUNE_DEFAULT to 0 to disable)\u001b[0m\n",
      "\u001b[32m[21:34:28] src/operator/nn/./cudnn/./cudnn_algoreg-inl.h:107: Running performance tests to find the best convolution algorithm, this can take a while... (setting env variable MXNET_CUDNN_AUTOTUNE_DEFAULT to 0 to disable)\u001b[0m\n",
      "\u001b[31mEpoch 1: Moving Training Loss -0.45243, Validation Loss -0.48430\u001b[0m\n",
      "\u001b[32mEpoch 1: Moving Training Loss -0.45411, Validation Loss -0.49547\u001b[0m\n",
      "\u001b[31mEpoch 2: Moving Training Loss -0.47682, Validation Loss -0.49349\u001b[0m\n",
      "\u001b[32mEpoch 2: Moving Training Loss -0.47860, Validation Loss -0.49171\u001b[0m\n",
      "\u001b[31mEpoch 3: Moving Training Loss -0.48764, Validation Loss -0.48654\u001b[0m\n",
      "\u001b[32mEpoch 3: Moving Training Loss -0.49209, Validation Loss -0.49691\u001b[0m\n",
      "\u001b[31mEpoch 4: Moving Training Loss -0.49402, Validation Loss -0.49460\u001b[0m\n",
      "\u001b[32mEpoch 4: Moving Training Loss -0.50125, Validation Loss -0.49153\u001b[0m\n",
      "\u001b[31mEpoch 5: Moving Training Loss -0.49909, Validation Loss -0.48818\u001b[0m\n",
      "\u001b[32mEpoch 5: Moving Training Loss -0.50901, Validation Loss -0.50685\u001b[0m\n",
      "\u001b[31mEpoch 6: Moving Training Loss -0.50318, Validation Loss -0.49910\u001b[0m\n",
      "\u001b[32mEpoch 6: Moving Training Loss -0.51099, Validation Loss -0.50699\u001b[0m\n",
      "\u001b[31m2018-11-26 21:42:35,539 INFO - root - Saved checkpoint to \"best_net-0000.params\"\u001b[0m\n",
      "\u001b[31mBest model at Epoch 7\u001b[0m\n",
      "\u001b[31mEpoch 7: Moving Training Loss -0.50754, Validation Loss -0.50608\u001b[0m\n",
      "\u001b[32m2018-11-26 21:42:38,976 INFO - root - Saved checkpoint to \"best_net-0000.params\"\u001b[0m\n",
      "\u001b[32mBest model at Epoch 7\u001b[0m\n",
      "\u001b[32mEpoch 7: Moving Training Loss -0.51972, Validation Loss -0.52423\u001b[0m\n",
      "\u001b[31mEpoch 8: Moving Training Loss -0.51194, Validation Loss -0.49567\u001b[0m\n",
      "\u001b[32mEpoch 8: Moving Training Loss -0.53058, Validation Loss -0.52097\u001b[0m\n",
      "\u001b[31mBest model at Epoch 9\u001b[0m\n",
      "\u001b[31mEpoch 9: Moving Training Loss -0.52164, Validation Loss -0.52385\u001b[0m\n",
      "\u001b[31m2018-11-26 21:44:53,701 INFO - root - Saved checkpoint to \"best_net-0000.params\"\u001b[0m\n",
      "\u001b[32m2018-11-26 21:44:58,455 INFO - root - Saved checkpoint to \"best_net-0000.params\"\u001b[0m\n",
      "\u001b[32mBest model at Epoch 9\u001b[0m\n",
      "\u001b[32mEpoch 9: Moving Training Loss -0.52839, Validation Loss -0.53628\u001b[0m\n"
     ]
    },
    {
     "name": "stdout",
     "output_type": "stream",
     "text": [
      "\n",
      "2018-11-26 21:46:14 Uploading - Uploading generated training model\u001b[31mBest model at Epoch 10\u001b[0m\n",
      "\u001b[31mEpoch 10: Moving Training Loss -0.53428, Validation Loss -0.53301\u001b[0m\n",
      "\u001b[31m2018-11-26 21:46:03,030 INFO - root - Saved checkpoint to \"best_net-0000.params\"\u001b[0m\n",
      "\u001b[31m/usr/local/lib/python2.7/dist-packages/mxnet/module/base_module.py:54: UserWarning: #033[91mYou created Module with Module(..., label_names=['softmax_label']) but input with name 'softmax_label' is not found in symbol.list_arguments(). Did you mean one of:\u001b[0m\n",
      "\u001b[31m#011data#033[0m\n",
      "  warnings.warn(msg)\u001b[0m\n",
      "\u001b[31m/usr/local/lib/python2.7/dist-packages/mxnet/module/base_module.py:66: UserWarning: Data provided by label_shapes don't match names specified by label_names ([] vs. ['softmax_label'])\n",
      "  warnings.warn(msg)\u001b[0m\n",
      "\u001b[32mEpoch 10: Moving Training Loss -0.52459, Validation Loss -0.50957\u001b[0m\n",
      "\u001b[32m/usr/local/lib/python2.7/dist-packages/mxnet/module/base_module.py:54: UserWarning: #033[91mYou created Module with Module(..., label_names=['softmax_label']) but input with name 'softmax_label' is not found in symbol.list_arguments(). Did you mean one of:\u001b[0m\n",
      "\u001b[32m#011data#033[0m\n",
      "  warnings.warn(msg)\u001b[0m\n",
      "\u001b[32m/usr/local/lib/python2.7/dist-packages/mxnet/module/base_module.py:66: UserWarning: Data provided by label_shapes don't match names specified by label_names ([] vs. ['softmax_label'])\n",
      "  warnings.warn(msg)\u001b[0m\n",
      "\n",
      "2018-11-26 21:46:24 Completed - Training job completed\n",
      "Billable seconds: 1615\n"
     ]
    }
   ],
   "source": [
    "#SAGEMAKER NOTEBOOK CODE\n",
    "sagemaker_net = MXNet(\"segmentation.py\", \n",
    "                  role=role, \n",
    "                  train_instance_count=5, \n",
    "                  train_instance_type=\"ml.p3.16xlarge\",\n",
    "                  sagemaker_session=sagemaker_session,\n",
    "                  hyperparameters={\n",
    "                                 'data_shape': (3, 256, 256),\n",
    "                                 'batch_size': 64, \n",
    "                                 'epochs': 100, \n",
    "                                 'learning_rate': 1E-3, \n",
    "                                 'num_gpus': 1,\n",
    "                                  })\n",
    "\n",
    "sagemaker_net.fit(inputs)"
   ]
  },
  {
   "cell_type": "markdown",
   "metadata": {},
   "source": [
    "Once the training is complete, we can launch an endpoint server that serves inference with our trained model."
   ]
  },
  {
   "cell_type": "code",
   "execution_count": 43,
   "metadata": {},
   "outputs": [
    {
     "name": "stderr",
     "output_type": "stream",
     "text": [
      "INFO:sagemaker:Creating model with name: sagemaker-mxnet-2018-10-29-03-49-07-684\n",
      "WARNING:sagemaker:Using already existing model: sagemaker-mxnet-2018-10-29-03-49-07-684\n",
      "INFO:sagemaker:Creating endpoint with name sagemaker-mxnet-2018-10-29-03-49-07-684\n"
     ]
    },
    {
     "name": "stdout",
     "output_type": "stream",
     "text": [
      "---------------------------------------------------------------------------------------!"
     ]
    }
   ],
   "source": [
    "sagemaker_predictor = sagemaker_net.deploy(initial_instance_count=1, instance_type='ml.p2.xlarge')"
   ]
  },
  {
   "cell_type": "markdown",
   "metadata": {},
   "source": [
    "## Test"
   ]
  },
  {
   "cell_type": "code",
   "execution_count": 44,
   "metadata": {},
   "outputs": [],
   "source": [
    "test_iter = mx.io.NDArrayIter(data = validation_X_crops, label=validation_Y_crops, batch_size=1, shuffle=False)"
   ]
  },
  {
   "cell_type": "markdown",
   "metadata": {},
   "source": [
    "We can send test data to the inference endpoint:"
   ]
  },
  {
   "cell_type": "code",
   "execution_count": 51,
   "metadata": {},
   "outputs": [],
   "source": [
    "batch = next(test_iter)\n",
    "data = batch.data[0]\n",
    "label = batch.label[0]\n",
    "response = sagemaker_predictor.predict(data.asnumpy().tolist())\n",
    "output = np.array(response[0])"
   ]
  },
  {
   "cell_type": "code",
   "execution_count": 52,
   "metadata": {},
   "outputs": [
    {
     "data": {
      "text/plain": [
       "<matplotlib.image.AxesImage at 0x7fdb584f8710>"
      ]
     },
     "execution_count": 52,
     "metadata": {},
     "output_type": "execute_result"
    },
    {
     "data": {
      "image/png": "[encoded data removed]",
      "text/plain": [
       "<Figure size 864x864 with 3 Axes>"
      ]
     },
     "metadata": {},
     "output_type": "display_data"
    }
   ],
   "source": [
    "width = 12\n",
    "height = 12\n",
    "plt.figure(figsize=(width, height))\n",
    "plt.subplot(331)\n",
    "plt.title('Input')\n",
    "plt.imshow(np.transpose(data.asnumpy()[0], (1,2,0)).astype(np.uint8))\n",
    "plt.subplot(332)\n",
    "plt.title('Prediction')\n",
    "plt.imshow(post_process_mask(output[0]), cmap=plt.cm.gray)\n",
    "plt.subplot(333)\n",
    "plt.title('Mask')\n",
    "plt.imshow(label[0][0].asnumpy(), cmap=plt.cm.gray)"
   ]
  },
  {
   "cell_type": "markdown",
   "metadata": {},
   "source": [
    "Don't forget to delete your endpoint when you're done with it."
   ]
  },
  {
   "cell_type": "code",
   "execution_count": null,
   "metadata": {},
   "outputs": [],
   "source": [
    "sagemaker_net.delete_endpoint()"
   ]
  }
 ],
 "metadata": {
  "kernelspec": {
   "display_name": "Python 3",
   "language": "python",
   "name": "python3"
  },
  "language_info": {
   "codemirror_mode": {
    "name": "ipython",
    "version": 3
   },
   "file_extension": ".py",
   "mimetype": "text/x-python",
   "name": "python",
   "nbconvert_exporter": "python",
   "pygments_lexer": "ipython3",
   "version": "3.7.3"
  }
 },
 "nbformat": 4,
 "nbformat_minor": 2
}
